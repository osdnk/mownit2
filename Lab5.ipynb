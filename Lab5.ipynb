{
 "cells": [
  {
   "cell_type": "markdown",
   "metadata": {},
   "source": [
    "# Regresja liniowa (aproksymacja średniokwadratowa)\n",
    "\n",
    "* Czytanka: Kincaid, Cheney rozdz. 12 (\"Smoothing of data and the method of least squares.\"), str. 495\n",
    "* [Fajny tutorial od podstaw](https://machinelearningmastery.com/simple-linear-regression-tutorial-for-machine-learning/)\n",
    "* [Kontynuacja tegoż tutorialu](https://machinelearningmastery.com/implement-simple-linear-regression-scratch-python/)\n",
    "\n",
    "#### Pytania:\n",
    "* po co się stosuje regresję liniową?\n",
    "* w jakich problemach/dziedzinach jest przydatna?\n",
    "* (*) na co trzeba uważać?\n",
    "\n",
    "### Krótkie objaśnienie\n",
    "Mając jakieś dane niejednokrotnie potrzebujemy je \"wyjaśnić\", tj. znaleźć model matematyczny, który w wygodny sposób opisze te dane. Celem jest łatwiejsza analiza, kompresja, predykcja, etc. W szczególności, wiele danych wykazuje pewną liniowość: dla uproszczenia zajmiemy się funkcjami `R -> R` (np. zależność ceny domu od jego powierzchni), ale oczywiście regresja liniowa zadziała też dla danych o większej ilości wymiarów.\n",
    "\n",
    "Ogólna zasada: mamy dany zbiór punktów `{(x_i, y_i)}`, chcemy znaleźć takie parametry `a` i `b`, żeby funkcja `y = f(x) = ax + b` jak najlepiej przybliżała nasze dane.\n",
    "\n",
    "Co to znaczy, że funkcja \"dobrze przybliża dane\"? Bardzo intuicyjnie: oznacza to, że jeśli porównamy faktyczne wartości w punktach `y_i` z wartościamy naszej funkcji `f`, to w sumie powinny dawać możliwie mały błąd. Warto zaznaczyć: funkcji błędu można wybrać parę, między innymi:\n",
    "* sumę wartości bezwzględnych różnic pomiędzy `y_i`, a `f(x_i)`\n",
    "* sumę kwadratów różnic pomiędzy `y_i`, a `f(x_i)`\n",
    "Z przyczyn matematyczno-techicznych wybierzemy tą drugą funkcję (między innymi jest łatwo i niezawodnie różniczkowalna :)).\n",
    "\n",
    "#### Pytania (c.d.):\n",
    "* czemu umawiamy się na konkretny, bardzo prosty model, i staramy się minimalizować błąd? Czy nie lepiej zastosować model, który dokładniej opisze dane? Przecież możemy dobrać modele, które dużo lepiej dopasują się do danych, niż linia prosta...\n",
    "\n",
    "### Zadanie 1.\n",
    "Napisz funkcję liczącą błąd średniokwadratowy. Na wejściu musi dostawać dwie tablice/dwa wektory równej długości, a na wyjściu ma zwracać sumę kwadratów różnic pomiędzy kolejnymi elementami tych wektorów."
   ]
  },
  {
   "cell_type": "code",
   "execution_count": null,
   "metadata": {
    "collapsed": true
   },
   "outputs": [],
   "source": [
    "from typing import List\n",
    "\n",
    "def rmse(x: List[float], y: List[float]) -> float:\n",
    "    pass"
   ]
  },
  {
   "cell_type": "markdown",
   "metadata": {},
   "source": [
    "### Zadanie 2.\n",
    "\n",
    "Napisz funkcję pobierającą wektor par floatów lub dwa wektory floatów i zwracającą parametry a i b prostej o równaniu `y = ax + b`, będącej najlepszą aproksymacją tych punktów.\n",
    "\n",
    "W przypadku opcji z wektorem par, kolejne pary traktujemy jako `x_i` i `y_i` opisane powyżej. W przypadku wyboru dwóch wektorów, traktujemy je jako wektory `x` i `y`."
   ]
  },
  {
   "cell_type": "code",
   "execution_count": 1,
   "metadata": {},
   "outputs": [],
   "source": [
    "from typing import List, Tuple, Optional\n",
    "import numpy as np\n",
    "from matplotlib import pyplot as plt\n",
    "\n",
    "\n",
    "def rmse(x: List[float], y: List[float]) -> float:\n",
    "    r = 0\n",
    "    for (a, b) in zip(x, y):\n",
    "        r += (a - b) ** 2\n",
    "    return r\n",
    "\n",
    "\n",
    "def lin_reg(data: List[Tuple[float, float]]) -> Tuple[float, float]:\n",
    "    d = np.array(data)\n",
    "    m = d.shape[0]\n",
    "    p = np.sum(d[:, 0])\n",
    "    q = np.sum(d[:, 1])\n",
    "    r = np.sum(d[:, 0] * d[:, 1])\n",
    "    s = np.sum(d[:, 0] ** 2)\n",
    "    d = (m + 1) * s - p ** 2\n",
    "    a = ((m + 1) * r - p * q) / d\n",
    "    b = (s * q - p * r) / d\n",
    "    return (a, b)\n",
    "\n"
   ]
  },
  {
   "cell_type": "code",
   "execution_count": null,
   "metadata": {},
   "outputs": [],
   "source": []
  },
  {
   "cell_type": "markdown",
   "metadata": {},
   "source": [
    "### Zadanie 3.\n",
    "\n",
    "Napisz klasę enkapsulującą model regresji liniowej. Klasa powinna mieć metody:\n",
    "* `fit`, przyjmującą punkty, do których będziemy dopasowywać model (sygnatura taka, jak metoda `lin_reg`)\n",
    "* `predict`, przyjmująca wektor floatów (tylko współrzędna x) i zwracającą predykcje naszego modelu dla tych danych wejściowych\n",
    "* pole `coeffs`, zwracają współczynniki prostej, którą dopasowywaliśmy"
   ]
  },
  {
   "cell_type": "code",
   "execution_count": 3,
   "metadata": {},
   "outputs": [],
   "source": [
    "class LinearRegressor():\n",
    "    def __init__(self):\n",
    "        self._coeffs = None  # type: Optional[Tuple[float, float]]\n",
    "\n",
    "    def fit(self, data: List[Tuple[float, float]]) -> None:\n",
    "        self._coeffs = lin_reg(data)\n",
    "\n",
    "    def predict(self, x: List[float]) -> List[float]:\n",
    "        return [self.coeffs[0] * xi + self.coeffs[1] for xi in x]\n",
    "\n",
    "    @property\n",
    "    def coeffs(self) -> Tuple[float, float]:\n",
    "        if self._coeffs is None:\n",
    "            raise Exception('You need to call `fit` on the model first.')\n",
    "\n",
    "        return self._coeffs\n"
   ]
  },
  {
   "cell_type": "code",
   "execution_count": null,
   "metadata": {},
   "outputs": [],
   "source": []
  },
  {
   "cell_type": "code",
   "execution_count": null,
   "metadata": {},
   "outputs": [],
   "source": []
  },
  {
   "cell_type": "markdown",
   "metadata": {},
   "source": [
    "### Zadanie 4.\n",
    "\n",
    "Przetestuj powyższą klasę używając prawdziwych danych (dopasowując model na danych, następnie licząc błąd średniokwadratowy pomiędzy predykcjami modelu a prawdziwymi danymi).\n",
    "\n",
    "Przykładowo, mogą to być dane o szwedzkim rynku ubezpieczeń samochodowych, dostępne [tutaj](https://www.math.muni.cz/~kolacek/docs/frvs/M7222/data/AutoInsurSweden.txt)."
   ]
  },
  {
   "cell_type": "markdown",
   "metadata": {},
   "source": [
    "### Zadanie 5.\n",
    "\n",
    "Napisz funkcję, która będzie potrafiła narysować wykres danych i dopasowanej do nich prostej, używając klasy `LinearRegressor` do stworzenia modelu."
   ]
  },
  {
   "cell_type": "code",
   "execution_count": null,
   "metadata": {
    "collapsed": true
   },
   "outputs": [],
   "source": [
    "def plot_data(x: List[float], y: List[float]) -> None:\n",
    "    pass"
   ]
  }
 ],
 "metadata": {
  "kernelspec": {
   "display_name": "Python 3",
   "language": "python",
   "name": "python3"
  },
  "language_info": {
   "codemirror_mode": {
    "name": "ipython",
    "version": 3
   },
   "file_extension": ".py",
   "mimetype": "text/x-python",
   "name": "python",
   "nbconvert_exporter": "python",
   "pygments_lexer": "ipython3",
   "version": "3.6.3"
  }
 },
 "nbformat": 4,
 "nbformat_minor": 2
}
