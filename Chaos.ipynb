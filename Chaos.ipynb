{
 "cells": [
  {
   "cell_type": "markdown",
   "metadata": {},
   "source": [
    "# Teoria chaosu\n",
    "\n",
    "## Ciekawe materiały\n",
    "* [Niesamowita książka Iana Stewarta: \"Does God Play Dice?\"](https://www.empik.com/czy-bog-gra-w-kosci-stewart-ian,318219,ksiazka-p)\n",
    "* [Książka E. Lorenza o chaosie](https://www.amazon.com/Essence-Chaos-Jessie-John-Lectures/dp/0295975148)\n",
    "* [Wikipedia o Teorii Chaosu](https://en.wikipedia.org/wiki/Chaos_theory)\n",
    "* [Wikipedia o równaniach Lorenza](https://en.wikipedia.org/wiki/Lorenz_system)\n",
    "* [Ciekawe rozważania o chaosie i losowości](https://medium.com/intuitionmachine/there-is-no-randomness-only-chaos-and-complexity-c92f6dccd7ab)\n",
    "* [Atraktor Roeslera](https://en.wikipedia.org/wiki/R%C3%B6ssler_attractor)\n",
    "* [Atraktor Kuramoto-Shivashinsky'ego](https://en.wikipedia.org/wiki/Kuramoto%E2%80%93Sivashinsky_equation)\n",
    "\n",
    "\n",
    "## Słowo wstępu\n",
    "\n",
    "Pogodę można przewidywać na dwa sposoby: synoptycznie (wróżąc z chmur, wyżów, niżów, wilgotności, etc.) oraz numerycznie. W tym drugim przypadku zbieramy dane o zmianach możliwie największej ilości parametrów w czasie i staramy się wymyślić model, który w dobry sposób opisze nasze zmiany. Jak w wielu dziedzinach życia okazuje się, że jego wyliczenie sprowadza się do rozwiązania równania różniczkowego. Jednak kiedy wiele lat temu próbowano rozwiązać te równania na komputerze, zauważono jedną rzecz: rozwiązanie równania dawało prognozy dokładne mniej więcej przez trzy dni. Zwiększanie dokładności obliczeń nie pomagało wiele. Okazało się, że mamy do czynienia z równaniem, którym nawet najmniejsze zmiany warunków początkowych powodują wielkie zmiany wyników. Edward Lorenz wydestylował minimalny przykład (\"repro\"):\n",
    "\n",
    "$\n",
    "{\\begin{aligned}{\\frac {\\mathrm {d} x}{\\mathrm {d} t}}&=\\sigma (y-x),\\\\{\\frac {\\mathrm {d} y}{\\mathrm {d} t}}&=x(\\rho -z)-y,\\\\{\\frac {\\mathrm {d} z}{\\mathrm {d} t}}&=xy-\\beta z.\\end{aligned}}\n",
    "$\n",
    "\n",
    "To układ równań różniczkowych \"po czasie\": opisuje zmiany pewnego systemu w czasie (w tym wypadku jest to układ trzech zmiennych). Jego rozwiązanie to trajektoria: funkcja zmiany położenia w czasie. Jeśli zrobimy wykres rzutu tej trajektorii na któreś dwa z trzech wymiarów, dostaniemy taki oto piękny obrazek:\n",
    "\n",
    "![lorenz_attractor](https://upload.wikimedia.org/wikipedia/commons/1/13/A_Trajectory_Through_Phase_Space_in_a_Lorenz_Attractor.gif)\n",
    "\n",
    "Kulka porusza się po trajektorii wraz z upływającym czasem. Takie zachowanie nazywamy **chaotycznym**. Zauważmy, że nie jest to zachowanie losowe: gdybyśmy liczyli z nieskończoną dokładnością, nie byłoby problemów z przewidzeniem, jak wygląda trajektoria.\n",
    "\n",
    "## Zadanie\n",
    "\n",
    "Napisz program, który będzie rysował trajektorię dla któregoś z chaotycznych atraktorów: Lorenza, Roeslera, Kuramoto-Shivashinsky'ego (lub innych znalezionych). Rozwiązanie wymaga rozwiązania równania różniczkowego. W Pythonie można to zrobić np. funkcją [`odeint` z pakietu SciPy](https://docs.scipy.org/doc/scipy-0.14.0/reference/generated/scipy.integrate.odeint.html#scipy.integrate.odeint).\n",
    "\n",
    "Wielkim plusem będzie interaktywność programu: warto zbadać, czy układ ma chaotyczne właściwości dla wszystkich zestawów parametrów, czy tylko dla pewnego ich podzbioru."
   ]
  },
  {
   "cell_type": "code",
   "execution_count": null,
   "metadata": {
    "collapsed": true
   },
   "outputs": [],
   "source": []
  }
 ],
 "metadata": {
  "kernelspec": {
   "display_name": "Python 3",
   "language": "python",
   "name": "python3"
  },
  "language_info": {
   "codemirror_mode": {
    "name": "ipython",
    "version": 3
   },
   "file_extension": ".py",
   "mimetype": "text/x-python",
   "name": "python",
   "nbconvert_exporter": "python",
   "pygments_lexer": "ipython3",
   "version": "3.6.1"
  }
 },
 "nbformat": 4,
 "nbformat_minor": 2
}
